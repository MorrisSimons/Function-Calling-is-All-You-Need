{
 "cells": [
  {
   "cell_type": "markdown",
   "id": "4082fa04",
   "metadata": {},
   "source": [
    "# NOTES \n",
    "- The video uses the old Swarm library, So im playing around with the agnets lib instead.\n"
   ]
  },
  {
   "cell_type": "code",
   "execution_count": 7,
   "id": "6e6bdc32",
   "metadata": {},
   "outputs": [],
   "source": [
    "!pip install -q openai-agents"
   ]
  },
  {
   "cell_type": "code",
   "execution_count": 8,
   "id": "972b108e",
   "metadata": {},
   "outputs": [
    {
     "name": "stdout",
     "output_type": "stream",
     "text": [
      "Hello! I'm an AI assistant and I don't have a personal name, but you can call me whatever you'd like. How can I assist you today?\n"
     ]
    }
   ],
   "source": [
    "from agents import Agent, Runner\n",
    "\n",
    "agent = Agent(name=\"Assistant\", instructions=\"You are a helpful assistant\")\n",
    "\n",
    "# Intended for Jupyter notebooks where there's an existing event loop\n",
    "result = await Runner.run(agent, \"Hello what is you name.\")  # type: ignore[top-level-await]  # noqa: F704\n",
    "print(result.final_output)"
   ]
  },
  {
   "cell_type": "markdown",
   "id": "4eb20081",
   "metadata": {},
   "source": [
    "### Handoffs example"
   ]
  },
  {
   "cell_type": "code",
   "execution_count": 11,
   "id": "904434eb",
   "metadata": {},
   "outputs": [
    {
     "name": "stdout",
     "output_type": "stream",
     "text": [
      "¡Hola! Estoy bien, gracias. ¿Y tú?\n"
     ]
    }
   ],
   "source": [
    "from agents import Agent, Runner\n",
    "import asyncio\n",
    "\n",
    "spanish_agent = Agent(\n",
    "    name=\"Spanish agent\",\n",
    "    instructions=\"You only speak Spanish.\",\n",
    ")\n",
    "\n",
    "english_agent = Agent(\n",
    "    name=\"English agent\",\n",
    "    instructions=\"You only speak English\",\n",
    ")\n",
    "\n",
    "triage_agent = Agent(\n",
    "    name=\"Triage agent\",\n",
    "    instructions=\"Handoff to the appropriate agent based on the language of the request.\",\n",
    "    handoffs=[spanish_agent, english_agent],\n",
    ")\n",
    "\n",
    "\n",
    "async def main():\n",
    "    result = await Runner.run(triage_agent, input=\"Hola, ¿cómo estás?\")\n",
    "    print(result.final_output)\n",
    "    # ¡Hola! Estoy bien, gracias por preguntar. ¿Y tú, cómo estás?\n",
    "\n",
    "\n",
    "if __name__ == \"__main__\":\n",
    "    await main()"
   ]
  },
  {
   "cell_type": "markdown",
   "id": "a7309ff0",
   "metadata": {},
   "source": [
    "### Functions example\n"
   ]
  },
  {
   "cell_type": "code",
   "execution_count": 13,
   "id": "abb72f08",
   "metadata": {},
   "outputs": [
    {
     "name": "stdout",
     "output_type": "stream",
     "text": [
      "The weather in Tokyo is sunny.\n"
     ]
    }
   ],
   "source": [
    "import asyncio\n",
    "\n",
    "from agents import Agent, Runner, function_tool\n",
    "\n",
    "\n",
    "@function_tool\n",
    "def get_weather(city: str) -> str:\n",
    "    return f\"The weather in {city} is sunny.\"\n",
    "\n",
    "\n",
    "agent = Agent(\n",
    "    name=\"Hello world\",\n",
    "    instructions=\"You are a helpful agent.\",\n",
    "    tools=[get_weather],\n",
    ")\n",
    "\n",
    "\n",
    "async def main():\n",
    "    result = await Runner.run(agent, input=\"What's the weather in Tokyo?\")\n",
    "    print(result.final_output)\n",
    "    # The weather in Tokyo is sunny.\n",
    "\n",
    "\n",
    "if __name__ == \"__main__\":\n",
    "    await main()"
   ]
  }
 ],
 "metadata": {
  "kernelspec": {
   "display_name": "Python 3",
   "language": "python",
   "name": "python3"
  },
  "language_info": {
   "codemirror_mode": {
    "name": "ipython",
    "version": 3
   },
   "file_extension": ".py",
   "mimetype": "text/x-python",
   "name": "python",
   "nbconvert_exporter": "python",
   "pygments_lexer": "ipython3",
   "version": "3.12.11"
  }
 },
 "nbformat": 4,
 "nbformat_minor": 5
}
